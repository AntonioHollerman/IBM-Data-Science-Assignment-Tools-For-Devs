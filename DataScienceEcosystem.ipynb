{
 "cells": [
  {
   "cell_type": "markdown",
   "source": [
    "# Data Science Tools and Ecosystem"
   ],
   "metadata": {
    "collapsed": false
   },
   "id": "cf06b3750089bc2c"
  },
  {
   "cell_type": "markdown",
   "source": [
    "In this notebook, Data Science Tools and Ecosystem are summarized."
   ],
   "metadata": {
    "collapsed": false
   },
   "id": "45dd6830c77d5faf"
  },
  {
   "cell_type": "markdown",
   "source": [
    "Some of the popular languages that Data Scientists use are:\n",
    "- Python\n",
    "- R\n",
    "- Scala\n",
    "- Sql"
   ],
   "metadata": {
    "collapsed": false
   },
   "id": "b7d605f25cbdcf4d"
  },
  {
   "cell_type": "markdown",
   "source": [
    "Some of the commonly used libraries used by Data Scientists include:\n",
    "- pandas\n",
    "- matplotlib\n",
    "- NumPy\n",
    "- Scipy"
   ],
   "metadata": {
    "collapsed": false
   },
   "id": "cd21ba5c87515d70"
  },
  {
   "cell_type": "markdown",
   "source": [
    "| Data Science Tools     |\n",
    "|------------------------|\n",
    "| Hadoop                 |\n",
    "| Jupyter Notebook       |\n",
    "| Programming Languages  |\n"
   ],
   "metadata": {
    "collapsed": false
   },
   "id": "3fbfbec7bd37a682"
  },
  {
   "cell_type": "markdown",
   "source": [
    "### Below are a few examples of evaluating arithmetic expressions in Python"
   ],
   "metadata": {
    "collapsed": false
   },
   "id": "43b23f0d280c2e32"
  },
  {
   "cell_type": "code",
   "execution_count": 2,
   "outputs": [
    {
     "data": {
      "text/plain": "17"
     },
     "execution_count": 2,
     "metadata": {},
     "output_type": "execute_result"
    }
   ],
   "source": [
    "# This a simple arithmetic expression to mutiply then add integers\n",
    "(3*4)+5"
   ],
   "metadata": {
    "collapsed": false,
    "ExecuteTime": {
     "end_time": "2023-08-26T05:37:58.622138200Z",
     "start_time": "2023-08-26T05:37:58.603281800Z"
    }
   },
   "id": "fc477b80980bd40"
  },
  {
   "cell_type": "code",
   "execution_count": 4,
   "outputs": [
    {
     "data": {
      "text/plain": "3.3333333333333335"
     },
     "execution_count": 4,
     "metadata": {},
     "output_type": "execute_result"
    }
   ],
   "source": [
    "#  This will convert 200 minutes to hours by diving by 60\n",
    "minutes = 200\n",
    "hours = minutes / 60\n",
    "hours"
   ],
   "metadata": {
    "collapsed": false,
    "ExecuteTime": {
     "end_time": "2023-08-26T05:39:56.775823300Z",
     "start_time": "2023-08-26T05:39:56.754872800Z"
    }
   },
   "id": "603c1c4468fdb881"
  },
  {
   "cell_type": "markdown",
   "source": [
    "**Objectives:**\n",
    "* List popular languages for Data Science\n",
    "* List Data Science Tools\n",
    "* List Libraries that is helpful for data scientists\n",
    "* Evaluate Expressions using Python"
   ],
   "metadata": {
    "collapsed": false
   },
   "id": "8c7b97e6c4e7713"
  },
  {
   "cell_type": "markdown",
   "source": [
    "## Author\n",
    "Antonio Hollerman"
   ],
   "metadata": {
    "collapsed": false
   },
   "id": "1e5c525c9826c82d"
  },
  {
   "cell_type": "code",
   "execution_count": null,
   "outputs": [],
   "source": [],
   "metadata": {
    "collapsed": false
   },
   "id": "e4132305f5b7ef80"
  }
 ],
 "metadata": {
  "kernelspec": {
   "display_name": "Python 3",
   "language": "python",
   "name": "python3"
  },
  "language_info": {
   "codemirror_mode": {
    "name": "ipython",
    "version": 2
   },
   "file_extension": ".py",
   "mimetype": "text/x-python",
   "name": "python",
   "nbconvert_exporter": "python",
   "pygments_lexer": "ipython2",
   "version": "2.7.6"
  }
 },
 "nbformat": 4,
 "nbformat_minor": 5
}
